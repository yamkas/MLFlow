{
 "cells": [
  {
   "cell_type": "markdown",
   "id": "28266b2e",
   "metadata": {
    "vscode": {
     "languageId": "plaintext"
    }
   },
   "source": [
    "## MLFlow Tracking Server"
   ]
  },
  {
   "cell_type": "code",
   "execution_count": 1,
   "id": "c6b7ed08",
   "metadata": {},
   "outputs": [],
   "source": [
    "import mlflow"
   ]
  },
  {
   "cell_type": "code",
   "execution_count": 2,
   "id": "93af994e",
   "metadata": {},
   "outputs": [],
   "source": [
    "mlflow.set_tracking_uri(\"http://127.0.0.1:5000\")"
   ]
  },
  {
   "cell_type": "code",
   "execution_count": null,
   "id": "04472516",
   "metadata": {},
   "outputs": [
    {
     "name": "stderr",
     "output_type": "stream",
     "text": [
      "2025/09/04 12:59:03 INFO mlflow.tracking.fluent: Experiment with name 'Check localhost connection' does not exist. Creating a new experiment.\n"
     ]
    },
    {
     "name": "stdout",
     "output_type": "stream",
     "text": [
      "🏃 View run delicate-hound-765 at: http://127.0.0.1:5000/#/experiments/870210783647133278/runs/479462eab87b447c989964292cca8e22\n",
      "🧪 View experiment at: http://127.0.0.1:5000/#/experiments/870210783647133278\n"
     ]
    }
   ],
   "source": [
    "mlflow.set_experiment(\"Check localhost connection\")\n",
    "\n",
    "with mlflow.start_run():\n",
    "    mlflow.log_metric(\"test\",1)\n",
    "    mlflow.log_metric(\"Yamkas\",2)"
   ]
  },
  {
   "cell_type": "code",
   "execution_count": 9,
   "id": "aeff7bb2",
   "metadata": {},
   "outputs": [
    {
     "name": "stdout",
     "output_type": "stream",
     "text": [
      "🏃 View run adaptable-seal-682 at: http://127.0.0.1:5000/#/experiments/172944694554385981/runs/fd9f7a8f53154810acbd40d2363ada77\n",
      "🧪 View experiment at: http://127.0.0.1:5000/#/experiments/172944694554385981\n"
     ]
    }
   ],
   "source": [
    "with mlflow.start_run():\n",
    "    mlflow.log_metric(\"test\",1)\n",
    "    mlflow.log_metric(\"Yamkas\",2)"
   ]
  },
  {
   "cell_type": "code",
   "execution_count": 7,
   "id": "35acfd4a",
   "metadata": {},
   "outputs": [
    {
     "name": "stderr",
     "output_type": "stream",
     "text": [
      "2025/09/04 13:29:22 INFO mlflow.tracking.fluent: Experiment with name 'Testing1' does not exist. Creating a new experiment.\n"
     ]
    },
    {
     "name": "stdout",
     "output_type": "stream",
     "text": [
      "🏃 View run invincible-bass-263 at: http://127.0.0.1:5000/#/experiments/436039724289122191/runs/cc766679b2f842fc8382276fac779c2e\n",
      "🧪 View experiment at: http://127.0.0.1:5000/#/experiments/436039724289122191\n"
     ]
    }
   ],
   "source": [
    "mlflow.set_experiment(\"Testing1\")\n",
    "\n",
    "with mlflow.start_run():\n",
    "    mlflow.log_metric(\"test1\",100)\n",
    "    mlflow.log_metric(\"Yamkas2\",250)"
   ]
  },
  {
   "cell_type": "code",
   "execution_count": 8,
   "id": "c1975cf5",
   "metadata": {},
   "outputs": [
    {
     "name": "stderr",
     "output_type": "stream",
     "text": [
      "2025/09/04 13:29:31 INFO mlflow.tracking.fluent: Experiment with name 'Testing2' does not exist. Creating a new experiment.\n"
     ]
    },
    {
     "name": "stdout",
     "output_type": "stream",
     "text": [
      "🏃 View run sincere-flea-538 at: http://127.0.0.1:5000/#/experiments/172944694554385981/runs/42bbb3e914814a859771c6d75ab6e325\n",
      "🧪 View experiment at: http://127.0.0.1:5000/#/experiments/172944694554385981\n"
     ]
    }
   ],
   "source": [
    "mlflow.set_experiment(\"Testing2\")\n",
    "\n",
    "with mlflow.start_run():\n",
    "    mlflow.log_metric(\"test11\",150)\n",
    "    mlflow.log_metric(\"Yamkas12\",300)"
   ]
  }
 ],
 "metadata": {
  "kernelspec": {
   "display_name": "Python 3",
   "language": "python",
   "name": "python3"
  },
  "language_info": {
   "codemirror_mode": {
    "name": "ipython",
    "version": 3
   },
   "file_extension": ".py",
   "mimetype": "text/x-python",
   "name": "python",
   "nbconvert_exporter": "python",
   "pygments_lexer": "ipython3",
   "version": "3.10.0"
  }
 },
 "nbformat": 4,
 "nbformat_minor": 5
}
